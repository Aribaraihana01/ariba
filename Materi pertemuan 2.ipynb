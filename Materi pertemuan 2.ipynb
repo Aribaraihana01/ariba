{
  "cells": [
    {
      "cell_type": "markdown",
      "id": "45173a9d",
      "metadata": {
        "id": "45173a9d"
      },
      "source": [
        "# Pertemuan 2 - Ekspresi Persamaan Matematika"
      ]
    },
    {
      "cell_type": "code",
      "source": [],
      "metadata": {
        "id": "NN28nvJV-P31"
      },
      "id": "NN28nvJV-P31",
      "execution_count": null,
      "outputs": []
    },
    {
      "cell_type": "markdown",
      "source": [
        "## NAMA: Ariba Raihana Alyashila\n",
        "## NIM: 103102400023\n",
        "## KELAS : DS 04 02\n",
        "## Rangkuman Materi Pertemuan Satu sampai Terakhir"
      ],
      "metadata": {
        "id": "XmNxfbW7-UME"
      },
      "id": "XmNxfbW7-UME"
    },
    {
      "cell_type": "markdown",
      "source": [
        "## MATERI PERTEMUAN 2"
      ],
      "metadata": {
        "id": "J0htTKmn-S3A"
      },
      "id": "J0htTKmn-S3A"
    },
    {
      "cell_type": "markdown",
      "id": "6ec038af",
      "metadata": {
        "id": "6ec038af"
      },
      "source": [
        "# 1. Penjumlahan Sederhana"
      ]
    },
    {
      "cell_type": "code",
      "execution_count": null,
      "id": "617e44a5",
      "metadata": {
        "id": "617e44a5"
      },
      "outputs": [],
      "source": [
        "# Input bilangan dari pengguna\n",
        "bilangan1 = float(input(\"Masukkan bilangan pertama: \"))\n",
        "bilangan2 = float(input(\"Masukkan bilangan kedua: \"))\n",
        "\n",
        "# Hitung penjumlahan\n",
        "hasil = bilangan1 + bilangan2\n",
        "\n",
        "# Cetak hasil\n",
        "print(\"Hasil penjumlahan:\", hasil)\n"
      ]
    },
    {
      "cell_type": "markdown",
      "id": "5a18bd21",
      "metadata": {
        "id": "5a18bd21"
      },
      "source": [
        "# 2. Pangkat (Eksponensial)"
      ]
    },
    {
      "cell_type": "code",
      "execution_count": null,
      "id": "d8baa4f2",
      "metadata": {
        "id": "d8baa4f2"
      },
      "outputs": [],
      "source": [
        "# Input basis dan eksponen dari pengguna\n",
        "basis = float(input(\"Masukkan basis: \"))\n",
        "eksponen = float(input(\"Masukkan eksponen: \"))\n",
        "\n",
        "# Hitung hasil pangkat\n",
        "hasil = basis ** eksponen\n",
        "\n",
        "# Cetak hasil\n",
        "print(\"Hasil pangkat:\", hasil)"
      ]
    },
    {
      "cell_type": "markdown",
      "id": "33f29442",
      "metadata": {
        "id": "33f29442"
      },
      "source": [
        "# 3. Sisa Bagi (Modulo)"
      ]
    },
    {
      "cell_type": "code",
      "execution_count": null,
      "id": "eddcbed3",
      "metadata": {
        "id": "eddcbed3"
      },
      "outputs": [],
      "source": [
        "# Input bilangan dari pengguna\n",
        "bilangan1 = int(input(\"Masukkan bilangan pertama (integer): \"))\n",
        "bilangan2 = int(input(\"Masukkan bilangan kedua (integer): \"))\n",
        "\n",
        "# Hitung sisa bagi\n",
        "hasil = bilangan1 % bilangan2\n",
        "\n",
        "# Cetak hasil\n",
        "print(\"Sisa bagi:\", hasil)\n"
      ]
    },
    {
      "cell_type": "markdown",
      "id": "b2f58989",
      "metadata": {
        "id": "b2f58989"
      },
      "source": [
        "# 4. Akar Kuadrat"
      ]
    },
    {
      "cell_type": "code",
      "execution_count": null,
      "id": "6a47cdb2",
      "metadata": {
        "id": "6a47cdb2"
      },
      "outputs": [],
      "source": [
        "import math\n",
        "\n",
        "# Input bilangan dari pengguna\n",
        "bilangan = float(input(\"Masukkan bilangan: \"))\n",
        "\n",
        "# Hitung akar kuadrat\n",
        "hasil = math.sqrt(bilangan)\n",
        "\n",
        "# Cetak hasil\n",
        "print(\"Akar kuadrat:\", hasil)\n"
      ]
    },
    {
      "cell_type": "markdown",
      "id": "fc5c7cf7",
      "metadata": {
        "id": "fc5c7cf7"
      },
      "source": [
        "# 5. Luas Segita"
      ]
    },
    {
      "cell_type": "code",
      "execution_count": null,
      "id": "21260eb0",
      "metadata": {
        "id": "21260eb0"
      },
      "outputs": [],
      "source": [
        "# Input tinggi dan alas segitiga dari pengguna\n",
        "tinggi = float(input(\"Masukkan tinggi segitiga: \"))\n",
        "alas = float(input(\"Masukkan alas segitiga: \"))\n",
        "\n",
        "# Hitung luas segitiga\n",
        "luas = 0.5 * tinggi * alas\n",
        "\n",
        "# Cetak hasil\n",
        "print(\"Luas segitiga:\", luas)\n"
      ]
    },
    {
      "cell_type": "markdown",
      "id": "b697dc1d",
      "metadata": {
        "id": "b697dc1d"
      },
      "source": [
        "# 6. Konversi satuan panjang"
      ]
    },
    {
      "cell_type": "code",
      "execution_count": null,
      "id": "e1196cdd",
      "metadata": {
        "id": "e1196cdd"
      },
      "outputs": [],
      "source": [
        "# Input panjang dalam meter dari pengguna\n",
        "panjang_meter = float(input(\"Masukkan panjang dalam meter: \"))\n",
        "\n",
        "# Konversi panjang ke kilometer dan sentimeter\n",
        "panjang_kilometer = panjang_meter / 1000\n",
        "panjang_sentimeter = panjang_meter * 100\n",
        "\n",
        "# Cetak hasil\n",
        "print(\"Panjang dalam kilometer:\", panjang_kilometer)\n",
        "print(\"Panjang dalam sentimeter:\", panjang_sentimeter)\n"
      ]
    },
    {
      "cell_type": "markdown",
      "id": "f73f3eaa",
      "metadata": {
        "id": "f73f3eaa"
      },
      "source": [
        "# 7. Bilangan Faktorial"
      ]
    },
    {
      "cell_type": "code",
      "execution_count": null,
      "id": "d7103f18",
      "metadata": {
        "id": "d7103f18",
        "outputId": "e897e25a-bf3f-407a-d43e-27d67c6996de"
      },
      "outputs": [
        {
          "name": "stdout",
          "output_type": "stream",
          "text": [
            "Masukkan bilangan bulat positif: 5\n",
            "Faktorial dari 5 adalah 120\n"
          ]
        }
      ],
      "source": [
        "# Input bilangan bulat positif dari pengguna\n",
        "n = int(input(\"Masukkan bilangan bulat positif: \"))\n",
        "\n",
        "# Inisialisasi hasil dengan nilai awal 1\n",
        "hasil = 1\n",
        "\n",
        "# Hitung faktorial\n",
        "for i in range(1, n + 1):\n",
        "    hasil *= i\n",
        "\n",
        "# Cetak hasil\n",
        "print(f\"Faktorial dari {n} adalah {hasil}\")\n"
      ]
    },
    {
      "cell_type": "code",
      "execution_count": null,
      "id": "5b761bae",
      "metadata": {
        "id": "5b761bae"
      },
      "outputs": [],
      "source": []
    }
  ],
  "metadata": {
    "kernelspec": {
      "display_name": "Python 3 (ipykernel)",
      "language": "python",
      "name": "python3"
    },
    "language_info": {
      "codemirror_mode": {
        "name": "ipython",
        "version": 3
      },
      "file_extension": ".py",
      "mimetype": "text/x-python",
      "name": "python",
      "nbconvert_exporter": "python",
      "pygments_lexer": "ipython3",
      "version": "3.11.4"
    },
    "toc": {
      "base_numbering": 1,
      "nav_menu": {},
      "number_sections": false,
      "sideBar": true,
      "skip_h1_title": false,
      "title_cell": "Table of Contents",
      "title_sidebar": "Contents",
      "toc_cell": false,
      "toc_position": {
        "height": "calc(100% - 180px)",
        "left": "10px",
        "top": "150px",
        "width": "165px"
      },
      "toc_section_display": true,
      "toc_window_display": true
    },
    "colab": {
      "provenance": []
    }
  },
  "nbformat": 4,
  "nbformat_minor": 5
}