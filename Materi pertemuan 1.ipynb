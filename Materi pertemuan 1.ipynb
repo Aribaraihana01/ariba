{
 "cells": [
  {
   "cell_type": "markdown",
   "id": "9d8dc904-105c-4fed-afed-6289568f0bc5",
   "metadata": {},
   "source": [
    "### NAMA: Ariba Raihana Alyashila\n",
    "### NIM: 103102400023\n",
    "### KELAS : DS 04 02\n",
    "## Rangkuman Materi Pertemuan Satu sampai Terakhir"
   ]
  },
  {
   "cell_type": "markdown",
   "id": "a7986852-2799-40ee-a393-e32937eedec3",
   "metadata": {},
   "source": [
    "## MATERI 1"
   ]
  },
  {
   "cell_type": "markdown",
   "id": "8c7e61fb-9c02-48ec-ab9e-f32e30866aea",
   "metadata": {},
   "source": [
    "## How to print"
   ]
  },
  {
   "cell_type": "code",
   "execution_count": 6,
   "id": "7bc5e0f7-a8bd-4880-b898-4a8c7bc22103",
   "metadata": {},
   "outputs": [
    {
     "name": "stdout",
     "output_type": "stream",
     "text": [
      "Hello, World!\n"
     ]
    }
   ],
   "source": [
    "print(\"Hello, World!\")"
   ]
  },
  {
   "cell_type": "code",
   "execution_count": 8,
   "id": "964d8410-b046-4b89-b573-2f0bdf25ea17",
   "metadata": {},
   "outputs": [
    {
     "name": "stdout",
     "output_type": "stream",
     "text": [
      "Hello, World!\n"
     ]
    }
   ],
   "source": [
    "print(f\"Hello, World!\")\n"
   ]
  },
  {
   "cell_type": "markdown",
   "id": "35842835-1534-4a8a-98f3-3a5d27e701e8",
   "metadata": {},
   "source": [
    "## Komentar"
   ]
  },
  {
   "cell_type": "code",
   "execution_count": 11,
   "id": "5c722ab0-13f8-4179-9045-1dd99c57b0d2",
   "metadata": {},
   "outputs": [
    {
     "name": "stdout",
     "output_type": "stream",
     "text": [
      "Komentar tidak akan mengeluarkan output apapun\n"
     ]
    }
   ],
   "source": [
    "# dinamakan komentar\n",
    "\n",
    "\"\"\"\n",
    "ini juga komentar gaes, tapi bisa banyak baris\n",
    "ini juga komentar gaes, tapi bisa banyak baris\n",
    "ini juga komentar gaes, tapi bisa banyak baris\n",
    "ini juga komentar gaes, tapi bisa banyak baris\n",
    "\"\"\"\n",
    "\n",
    "print(\"Komentar tidak akan mengeluarkan output apapun\")"
   ]
  },
  {
   "cell_type": "code",
   "execution_count": null,
   "id": "7da6398a-9906-4f7b-8a83-151b217f7636",
   "metadata": {},
   "outputs": [],
   "source": [
    "#Variabel \n",
    "\n",
    "Aturan Penulisan Variabel:\n",
    "\n",
    "1. Nama variabel boleh diawali menggunakan huruf atau garis bawah _. Contoh: nama, _nama, namaKu, nama_variabel\n",
    "2. Karakter selanjutnya dapat berupa huruf, garis bawah _ atau angka. Contoh: __nama, n2, nilai1\n",
    "3. Variabel tidak boleh dimulai dengan angka ataupun simbol.\n",
    "4. Variabel tidak boleh berupa kata kunci (keyword) yang ada dalam Python. Contoh: if, else, while, for, dan masih banyak lagi\n"
   ]
  },
  {
   "cell_type": "code",
   "execution_count": 13,
   "id": "9c867bac-105a-4ae7-8b24-4da56a936bb3",
   "metadata": {},
   "outputs": [],
   "source": [
    "# Variabel\n",
    "Nama = \"Rendika\"\n",
    "umur = 50\n",
    "status_pernikahan = \"Belum Menikah\"\n",
    "statuspernikahan = \"Menikah\""
   ]
  },
  {
   "cell_type": "markdown",
   "id": "711601a5-3cb7-4f07-9157-136f26e0f6c9",
   "metadata": {},
   "source": [
    "## Tipe data"
   ]
  },
  {
   "cell_type": "code",
   "execution_count": 22,
   "id": "7518b18a-b8c3-437c-bb71-76f84d2a8d61",
   "metadata": {},
   "outputs": [
    {
     "name": "stdout",
     "output_type": "stream",
     "text": [
      "Nama: rendika dan Umur: 18\n",
      "Nama: rendika dan Umur: 18\n",
      "\n",
      "\n",
      "Rendika\n",
      "dan\n",
      "sayyid\n"
     ]
    }
   ],
   "source": [
    "# Tipe data\n",
    "bilangan_bulat = 10\n",
    "bilangan_desimal = 3.14\n",
    "teks = \"Halo, dunia!\"\n",
    "teks_multibaris = '''Rendika\n",
    "dan\n",
    "sayyid'''\n",
    "boolean = True\n",
    "\n",
    "nama= \"rendika\"\n",
    "umur= 18\n",
    "\n",
    "# Menampilkan nilai variabel\n",
    "print('Nama:', nama, 'dan Umur:', umur)\n",
    "print(f\"Nama: {nama} dan Umur: {umur}\")\n",
    "print('\\n')\n",
    "print(teks_multibaris)"
   ]
  },
  {
   "cell_type": "markdown",
   "id": "5945703f-05bc-4e58-9f0f-13569a522fe5",
   "metadata": {},
   "source": [
    "## MultiStatment Variabel"
   ]
  },
  {
   "cell_type": "code",
   "execution_count": 24,
   "id": "07ba3ada-ab56-4519-af26-ecaa6db3cd17",
   "metadata": {},
   "outputs": [],
   "source": [
    "nama = \"Sayyid\"\n",
    "a = 10; b = 50\n",
    "kesibukan, keterangan = 'Berkuliah','Institut Teknologi Telkom Surabaya'"
   ]
  },
  {
   "cell_type": "code",
   "execution_count": 26,
   "id": "856bedfb-91ce-4c0d-84a7-950e97ed35ff",
   "metadata": {},
   "outputs": [
    {
     "name": "stdout",
     "output_type": "stream",
     "text": [
      "Nama saya Sayyid dan Umur saya adalah 60 Tahun dan sedang Berkuliah di Institut Teknologi Telkom Surabaya\n"
     ]
    }
   ],
   "source": [
    "print(f\"Nama saya {nama} dan Umur saya adalah {a+b} Tahun dan sedang {kesibukan} di {keterangan}\")"
   ]
  },
  {
   "cell_type": "markdown",
   "id": "2949aae9-b2f1-4e36-9ac6-6d1eb41d58ae",
   "metadata": {},
   "source": [
    "## Input Dari Pengguna"
   ]
  },
  {
   "cell_type": "code",
   "execution_count": 29,
   "id": "f3146c78-f552-4218-b7bd-f7e57d9fe159",
   "metadata": {},
   "outputs": [
    {
     "name": "stdin",
     "output_type": "stream",
     "text": [
      "Masukkan nama Anda:  ariba\n",
      "Berapa harganya?:  40000\n"
     ]
    },
    {
     "name": "stdout",
     "output_type": "stream",
     "text": [
      "\n",
      "\n",
      "Halo, aku ariba dan aku sudah makan ayam goreng yang harganya Rp 40000\n"
     ]
    }
   ],
   "source": [
    "nama = input(\"Masukkan nama Anda: \")\n",
    "makan = 'sudah'\n",
    "harga = int(input(\"Berapa harganya?: \"))\n",
    "\n",
    "print('\\n')\n",
    "print(\"Halo, aku\", nama, 'dan aku', makan, 'makan ayam goreng yang harganya Rp', harga)"
   ]
  },
  {
   "cell_type": "markdown",
   "id": "7acd98d9-488f-40a7-a640-d9adbcc256d7",
   "metadata": {},
   "source": [
    "## Percabangan"
   ]
  },
  {
   "cell_type": "code",
   "execution_count": 37,
   "id": "0d0fafa2-2240-4bbe-8abc-917ea6c1cabd",
   "metadata": {},
   "outputs": [
    {
     "name": "stdin",
     "output_type": "stream",
     "text": [
      "Masukkan nilaimu:  20\n"
     ]
    },
    {
     "name": "stdout",
     "output_type": "stream",
     "text": [
      "Semoga Lulus\n"
     ]
    }
   ],
   "source": [
    "nilai = int(input(\"Masukkan nilaimu: \"))\n",
    "\n",
    "if nilai >= 70:\n",
    "    print(\"Selamat anda lulus MatKul Algoritma & Pemrograman!\")\n",
    "elif nilai == 20:\n",
    "    print('Semoga Lulus')\n",
    "else:\n",
    "    print(\"Maaf anda tidak lulus\")"
   ]
  },
  {
   "cell_type": "markdown",
   "id": "c103ebb3-9219-460d-a06f-0ba2702039e6",
   "metadata": {},
   "source": [
    "## Looping and While"
   ]
  },
  {
   "cell_type": "code",
   "execution_count": 40,
   "id": "054107ce-80dd-4129-88f6-e2868c6bcc0b",
   "metadata": {},
   "outputs": [
    {
     "name": "stdout",
     "output_type": "stream",
     "text": [
      "1\n",
      "Namaku 1\n",
      "2\n",
      "Namaku 2\n",
      "3\n",
      "Namaku 3\n",
      "4\n",
      "Namaku 4\n"
     ]
    }
   ],
   "source": [
    "for i in range(1,5):\n",
    "    print(i)\n",
    "    print('Namaku',i)"
   ]
  },
  {
   "cell_type": "code",
   "execution_count": 42,
   "id": "08649d76-2f29-4a9d-8e45-59923d72c31a",
   "metadata": {},
   "outputs": [
    {
     "name": "stdout",
     "output_type": "stream",
     "text": [
      "Nama Saya Rendika\n",
      "Ini cuman nyoba Rendika\n",
      "Nama Saya Sayyid\n",
      "Ini cuman nyoba Sayyid\n",
      "Nama Saya Habil\n",
      "Ini cuman nyoba Habil\n",
      "Nama Saya Arifin\n",
      "Ini cuman nyoba Arifin\n"
     ]
    }
   ],
   "source": [
    "names = ['Rendika',\"Sayyid\",\"Habil\",\"Arifin\"]\n",
    "for name in names:\n",
    "    print(\"Nama Saya\",name)\n",
    "    print(\"Ini cuman nyoba\",name)"
   ]
  },
  {
   "cell_type": "markdown",
   "id": "3fe2f1b0-c6bc-41f1-89a1-f0b451705678",
   "metadata": {},
   "source": [
    "## Fungsi "
   ]
  },
  {
   "cell_type": "code",
   "execution_count": 45,
   "id": "48125aa6-0f2c-4587-8846-dba8aa02c259",
   "metadata": {},
   "outputs": [],
   "source": [
    "def jumlah(angka1, angka2):\n",
    "    hasil = angka1+angka2\n",
    "    return hasil\n",
    "\n",
    "def pengurangan(angka1, angka2):\n",
    "    hasil = angka1-angka2\n",
    "    return hasil"
   ]
  },
  {
   "cell_type": "code",
   "execution_count": 47,
   "id": "92936223-a9fc-42a0-a673-dab2151880f2",
   "metadata": {},
   "outputs": [
    {
     "data": {
      "text/plain": [
       "14"
      ]
     },
     "execution_count": 47,
     "metadata": {},
     "output_type": "execute_result"
    }
   ],
   "source": [
    "jumlah(10,4)"
   ]
  },
  {
   "cell_type": "code",
   "execution_count": 49,
   "id": "e40edafa-a360-4a3e-badb-8a1ec5d96930",
   "metadata": {},
   "outputs": [
    {
     "data": {
      "text/plain": [
       "-5"
      ]
     },
     "execution_count": 49,
     "metadata": {},
     "output_type": "execute_result"
    }
   ],
   "source": [
    "pengurangan(10,15)"
   ]
  },
  {
   "cell_type": "code",
   "execution_count": null,
   "id": "2e52b2a0-8767-4a9b-958b-855ac2928172",
   "metadata": {},
   "outputs": [],
   "source": []
  }
 ],
 "metadata": {
  "kernelspec": {
   "display_name": "Python 3 (ipykernel)",
   "language": "python",
   "name": "python3"
  },
  "language_info": {
   "codemirror_mode": {
    "name": "ipython",
    "version": 3
   },
   "file_extension": ".py",
   "mimetype": "text/x-python",
   "name": "python",
   "nbconvert_exporter": "python",
   "pygments_lexer": "ipython3",
   "version": "3.12.4"
  }
 },
 "nbformat": 4,
 "nbformat_minor": 5
}
