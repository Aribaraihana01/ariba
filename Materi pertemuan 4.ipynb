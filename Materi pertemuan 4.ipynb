{
  "cells": [
    {
      "cell_type": "markdown",
      "id": "00bc795e",
      "metadata": {
        "id": "00bc795e"
      },
      "source": [
        "## NAMA: Ariba Raihana Alyashila\n",
        "## NIM: 103102400023\n",
        "## KELAS : DS 04 02"
      ]
    },
    {
      "cell_type": "markdown",
      "source": [
        "## Pass Statment Percabangan"
      ],
      "metadata": {
        "id": "ThVlXIHaBpli"
      },
      "id": "ThVlXIHaBpli"
    },
    {
      "cell_type": "markdown",
      "source": [
        "Pass Statment in Percabangan\n",
        "Pernyataan pass dalam percabangan adalah pernyataan kosong yang digunakan untuk menghindari kesalahan sintaksis saat Anda memerlukan sebuah blok kode dalam struktur percabangan (seperti if, elif, atau else), tetapi tidak ada tindakan yang perlu diambil di dalam blok tersebut.\n",
        "pass digunakan saat Anda ingin menulis kode yang masih belum sepenuhnya dikembangkan atau saat Anda sengaja ingin memiliki blok kosong sebagai placeholder. Ini adalah cara untuk memberikan struktur dasar dalam kode Anda tanpa harus mengimplementasikan tindakan tertentu.\n"
      ],
      "metadata": {
        "id": "B6eOs0tzBiU3"
      },
      "id": "B6eOs0tzBiU3"
    },
    {
      "cell_type": "code",
      "execution_count": null,
      "id": "236482e7",
      "metadata": {
        "id": "236482e7",
        "outputId": "9432b73d-e674-480c-837b-248dbadccc57"
      },
      "outputs": [
        {
          "name": "stdout",
          "output_type": "stream",
          "text": [
            "Anda mendapat nilai D\n",
            "Terima kasih atas usaha Anda!\n"
          ]
        }
      ],
      "source": [
        "# nilai = 70\n",
        "# nilai = 69\n",
        "nilai = 59\n",
        "\n",
        "if nilai >= 90:\n",
        "    print(\"Anda mendapat nilai A\")\n",
        "elif nilai >= 80:\n",
        "    print(\"Anda mendapat nilai B\")\n",
        "elif nilai >= 70:\n",
        "    print(\"Anda mendapat nilai C\")\n",
        "elif nilai >= 60:\n",
        "    pass # Tidak melakukan apa-apa ketika nilai di atas 60\n",
        "else:\n",
        "    print(\"Anda mendapat nilai D\")\n",
        "\n",
        "print(\"Terima kasih atas usaha Anda!\")"
      ]
    },
    {
      "cell_type": "markdown",
      "id": "16cc84c0",
      "metadata": {
        "id": "16cc84c0"
      },
      "source": [
        "---"
      ]
    },
    {
      "cell_type": "markdown",
      "id": "962de0f0",
      "metadata": {
        "id": "962de0f0"
      },
      "source": [
        "## Perulangan (for) - Counted loop"
      ]
    },
    {
      "cell_type": "markdown",
      "id": "6887efc4",
      "metadata": {
        "id": "6887efc4"
      },
      "source": [
        "<blockquote> perulangan (for) biasanya digunakan untuk mengulangi kode yang sudah diketahui banyak perulangannya. </blockquote>"
      ]
    },
    {
      "cell_type": "markdown",
      "id": "14c15421",
      "metadata": {
        "id": "14c15421"
      },
      "source": [
        "```python\n",
        "for <iterator> in <sequence_expression>:\n",
        "    <command_expression>\n",
        "```"
      ]
    },
    {
      "cell_type": "markdown",
      "id": "41c1a668",
      "metadata": {
        "id": "41c1a668"
      },
      "source": [
        "Penjelasan Mengenai Struktur For Diatas:\n",
        "\n",
        "<blockquote> iterator : Ini adalah variabel yang akan mengambil nilai dari setiap item dalam urutan selama setiap iterasi dari loop. Iterator ini didefinisikan oleh pemrogram dan bisa menjadi nama variabel yang valid.</blockquote>\n",
        "\n",
        "<blockquote> sequence_expression : Ini adalah ekspresi yang mendefinisikan urutan atau kumpulan item yang akan diiterasi oleh loop. Urutan ini bisa berupa list, array, string, range, atau struktur data lain yang mendukung iterasi.</blockquote>\n",
        "\n",
        "<blockquote> command_expression : Ini adalah kumpulan pernyataan atau perintah yang akan dieksekusi selama setiap iterasi dari loop. Kode yang ingin dijalankan selama iterasi tertentu harus ditulis di sini.</blockquote>\n",
        "\n",
        "Berikut adalah gambaran umum tentang bagaimana loop for bekerja:\n",
        "- Loop menginisialisasi iterator dengan item pertama dalam urutan.\n",
        "- Ia mengeksekusi pernyataan dalam <command_expression> untuk nilai saat ini dari iterator.\n",
        "- Iterator diperbarui ke item berikutnya dalam urutan.\n",
        "- Langkah 2 dan 3 diulangi sampai akhir urutan tercapai, pada titik ini loop berakhir."
      ]
    },
    {
      "cell_type": "code",
      "execution_count": null,
      "id": "054a764f",
      "metadata": {
        "id": "054a764f",
        "outputId": "9d425456-f915-4767-ddc1-b2653c4bf2b5"
      },
      "outputs": [
        {
          "name": "stdout",
          "output_type": "stream",
          "text": [
            "Saya Suka Makan apple\n",
            "Saya Suka Makan banana\n",
            "Saya Suka Makan cherry\n"
          ]
        }
      ],
      "source": [
        "fruits = [\"apple\", \"banana\", \"cherry\"]\n",
        "for fruit in fruits:\n",
        "    print(f'Saya Suka Makan {fruit}')"
      ]
    },
    {
      "cell_type": "code",
      "execution_count": null,
      "id": "f01ede7f",
      "metadata": {
        "id": "f01ede7f",
        "outputId": "fcb9f13e-5482-417a-93ad-75f2c951a9d9"
      },
      "outputs": [
        {
          "name": "stdout",
          "output_type": "stream",
          "text": [
            "apple\n",
            "banana\n",
            "cherry\n"
          ]
        }
      ],
      "source": [
        "fruits = [\"apple\", \"banana\", \"cherry\"]\n",
        "for i in range(3):\n",
        "    print(fruits[i])"
      ]
    },
    {
      "cell_type": "markdown",
      "id": "6be62170",
      "metadata": {
        "id": "6be62170"
      },
      "source": [
        "### Iterating Through Characters in a String:"
      ]
    },
    {
      "cell_type": "code",
      "execution_count": null,
      "id": "0d6e3472",
      "metadata": {
        "id": "0d6e3472",
        "outputId": "e6b27d84-5c64-4548-aa1d-026db1276832"
      },
      "outputs": [
        {
          "name": "stdout",
          "output_type": "stream",
          "text": [
            "Hello"
          ]
        }
      ],
      "source": [
        "word = \"Hello\"\n",
        "for char in word:\n",
        "    print(char, end=\"\")"
      ]
    },
    {
      "cell_type": "markdown",
      "id": "2ac8e713",
      "metadata": {
        "id": "2ac8e713"
      },
      "source": [
        "### Penggunaan Lainnya"
      ]
    },
    {
      "cell_type": "code",
      "execution_count": null,
      "id": "54280d28",
      "metadata": {
        "id": "54280d28",
        "outputId": "9e44ec21-e795-43e4-bde1-9e96de1e1053"
      },
      "outputs": [
        {
          "name": "stdout",
          "output_type": "stream",
          "text": [
            "5 x 1 = 5\n",
            "5 x 2 = 10\n",
            "5 x 3 = 15\n",
            "5 x 4 = 20\n",
            "5 x 5 = 25\n"
          ]
        }
      ],
      "source": [
        "angka = 5\n",
        "for i in range(1, 6):\n",
        "    print(angka, 'x', i, '=', angka*i)"
      ]
    },
    {
      "cell_type": "markdown",
      "id": "6b5dd24c",
      "metadata": {
        "id": "6b5dd24c"
      },
      "source": [
        "## Perulangan (While) - Uncounted loop"
      ]
    },
    {
      "cell_type": "markdown",
      "id": "1410f4e9",
      "metadata": {
        "id": "1410f4e9"
      },
      "source": [
        "<blockquote> Statement while sangat berkaitan dengan variabel boolean, atau logical statement. Karena penentuan kapan suatu blok kode akan diulang-ulang ditinjau dari True or False dari suatu pernyataan logika. </blockquote>\n",
        "\n",
        "***Sehingga jika suatu kondisi itu selalu benar, maka perulangannya pun akan selalu di eksekusi.***"
      ]
    },
    {
      "cell_type": "markdown",
      "id": "0ec805fc",
      "metadata": {
        "id": "0ec805fc"
      },
      "source": [
        "```python\n",
        "while <kondisi>:\n",
        "  # blok kode yang akan diulang-ulang\n",
        "```"
      ]
    },
    {
      "cell_type": "markdown",
      "id": "5a8caf17",
      "metadata": {
        "id": "5a8caf17"
      },
      "source": [
        "### Infinity Loop"
      ]
    },
    {
      "cell_type": "code",
      "execution_count": null,
      "id": "ea1e280b",
      "metadata": {
        "id": "ea1e280b"
      },
      "outputs": [],
      "source": [
        "while (1 + 2 == 3):\n",
        "    print('Halo dunia!')"
      ]
    },
    {
      "cell_type": "markdown",
      "id": "13a11d87",
      "metadata": {
        "id": "13a11d87"
      },
      "source": [
        "### Limited Loop"
      ]
    },
    {
      "cell_type": "markdown",
      "id": "28817b3f",
      "metadata": {
        "id": "28817b3f"
      },
      "source": [
        "contoh 1:\n",
        "<blockquote> Menampilkan angka urut dari 1 sampai 5 dengan While </blockquote>"
      ]
    },
    {
      "cell_type": "code",
      "execution_count": null,
      "id": "21ceb820",
      "metadata": {
        "scrolled": true,
        "id": "21ceb820",
        "outputId": "f5b68aa1-5f3a-4b7e-9554-eb301e5ac56b"
      },
      "outputs": [
        {
          "name": "stdout",
          "output_type": "stream",
          "text": [
            "1\n",
            "2\n",
            "3\n",
            "4\n",
            "5\n"
          ]
        }
      ],
      "source": [
        "i = 1\n",
        "\n",
        "while i <= 5:\n",
        "    print(i)\n",
        "    i += 1"
      ]
    },
    {
      "cell_type": "markdown",
      "id": "5e8bc3f5",
      "metadata": {
        "id": "5e8bc3f5"
      },
      "source": [
        "contoh 2:\n",
        "<blockquote> menampilkan angka kelipatan 3 dari 1 sampai 100 </blockquote>"
      ]
    },
    {
      "cell_type": "code",
      "execution_count": null,
      "id": "0c323cf4",
      "metadata": {
        "scrolled": true,
        "id": "0c323cf4",
        "outputId": "1f859862-3065-463c-c343-ec09c5539cd2"
      },
      "outputs": [
        {
          "name": "stdout",
          "output_type": "stream",
          "text": [
            "3\n",
            "6\n",
            "9\n",
            "12\n",
            "15\n",
            "18\n",
            "21\n",
            "24\n",
            "27\n",
            "30\n",
            "33\n",
            "36\n",
            "39\n",
            "42\n",
            "45\n",
            "48\n",
            "51\n",
            "54\n",
            "57\n",
            "60\n",
            "63\n",
            "66\n",
            "69\n",
            "72\n",
            "75\n",
            "78\n",
            "81\n",
            "84\n",
            "87\n",
            "90\n",
            "93\n",
            "96\n",
            "99\n"
          ]
        }
      ],
      "source": [
        "i = 3\n",
        "while i < 100:\n",
        "    print(i)\n",
        "    i = i + 3"
      ]
    },
    {
      "cell_type": "markdown",
      "id": "0632a25f",
      "metadata": {
        "id": "0632a25f"
      },
      "source": [
        "contoh 3:\n",
        "<blockquote> meminta user untuk memasukkan angka ganjil lebih dari 50 dan stop apabila inputan benar. Jika user justru memasukkan nilai genap atau nilai yang kurang dari 50, maka sistem akan meminta user untuk menginputkan kembali. </blockquote>"
      ]
    },
    {
      "cell_type": "code",
      "execution_count": null,
      "id": "dccc81dd",
      "metadata": {
        "id": "dccc81dd",
        "outputId": "71fd3204-047c-4e4a-8c25-878023874e85"
      },
      "outputs": [
        {
          "name": "stdout",
          "output_type": "stream",
          "text": [
            "Masukkan bilangan ganjil lebih dari 50: 10\n",
            "Salah, masukkan lagi: 51\n",
            "Benar\n"
          ]
        }
      ],
      "source": [
        "a = int(input('Masukkan bilangan ganjil lebih dari 50: '))\n",
        "\n",
        "# while a % 2 == 1 or a > 50:\n",
        "#     a = int(input('Benar, masukkan lagi: '))\n",
        "\n",
        "while a % 2 != 1 or a <= 50:\n",
        "    a = int(input('Salah, masukkan lagi: '))\n",
        "\n",
        "print('Benar')"
      ]
    },
    {
      "cell_type": "markdown",
      "id": "8d419a15",
      "metadata": {
        "id": "8d419a15"
      },
      "source": [
        "---"
      ]
    }
  ],
  "metadata": {
    "kernelspec": {
      "display_name": "Python 3 (ipykernel)",
      "language": "python",
      "name": "python3"
    },
    "language_info": {
      "codemirror_mode": {
        "name": "ipython",
        "version": 3
      },
      "file_extension": ".py",
      "mimetype": "text/x-python",
      "name": "python",
      "nbconvert_exporter": "python",
      "pygments_lexer": "ipython3",
      "version": "3.11.4"
    },
    "toc": {
      "base_numbering": 1,
      "nav_menu": {},
      "number_sections": true,
      "sideBar": true,
      "skip_h1_title": false,
      "title_cell": "Table of Contents",
      "title_sidebar": "Contents",
      "toc_cell": false,
      "toc_position": {
        "height": "calc(100% - 180px)",
        "left": "10px",
        "top": "150px",
        "width": "167.233px"
      },
      "toc_section_display": true,
      "toc_window_display": false
    },
    "colab": {
      "provenance": []
    }
  },
  "nbformat": 4,
  "nbformat_minor": 5
}