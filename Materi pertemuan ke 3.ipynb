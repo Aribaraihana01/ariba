{
  "cells": [
    {
      "cell_type": "markdown",
      "source": [
        "## NAMA: Ariba Raihana Alyashila\n",
        "## NIM: 103102400023\n",
        "## KELAS : DS 04 02"
      ],
      "metadata": {
        "id": "BbFU2ZoGAMPE"
      },
      "id": "BbFU2ZoGAMPE"
    },
    {
      "cell_type": "markdown",
      "id": "45173a9d",
      "metadata": {
        "id": "45173a9d"
      },
      "source": [
        "# Pertemuan 3 - Percabangan If Else"
      ]
    },
    {
      "cell_type": "code",
      "execution_count": null,
      "id": "434f6d68",
      "metadata": {
        "id": "434f6d68",
        "outputId": "edc57c54-5073-4cb1-f379-5bab9b11b0fa"
      },
      "outputs": [
        {
          "name": "stdout",
          "output_type": "stream",
          "text": [
            "Anda sudah dewasa.\n"
          ]
        }
      ],
      "source": [
        "umur = 20\n",
        "if umur >= 18:\n",
        "    print(\"Anda sudah dewasa.\")"
      ]
    },
    {
      "cell_type": "markdown",
      "id": "74cf1d1f",
      "metadata": {
        "id": "74cf1d1f"
      },
      "source": [
        "## Percabangan 'If' (Single Alternative Selection):"
      ]
    },
    {
      "cell_type": "code",
      "execution_count": null,
      "id": "7433051a",
      "metadata": {
        "id": "7433051a",
        "outputId": "9dbda15f-8f4c-4b87-8ce9-f4c062cc63d3"
      },
      "outputs": [
        {
          "name": "stdout",
          "output_type": "stream",
          "text": [
            "File ini contoh.txt ditemukan.\n"
          ]
        }
      ],
      "source": [
        "import os\n",
        "\n",
        "file_name = \"ini contoh.txt\"\n",
        "\n",
        "if os.path.exists(file_name):\n",
        "    print(f\"File {file_name} ditemukan.\")"
      ]
    },
    {
      "cell_type": "markdown",
      "id": "c37575fd",
      "metadata": {
        "id": "c37575fd"
      },
      "source": [
        "## Percabangan 'If-Else' (Dual Alternative Selection):"
      ]
    },
    {
      "cell_type": "code",
      "execution_count": null,
      "id": "31e5deea",
      "metadata": {
        "id": "31e5deea",
        "outputId": "189665a9-086c-4a30-aacb-02a32f4ec52d"
      },
      "outputs": [
        {
          "name": "stdout",
          "output_type": "stream",
          "text": [
            "Anda lulus.\n"
          ]
        }
      ],
      "source": [
        "nilai = 70\n",
        "if nilai >= 60:\n",
        "    print(\"Anda lulus.\")\n",
        "else:\n",
        "    print(\"Anda belum lulus.\")"
      ]
    },
    {
      "cell_type": "code",
      "execution_count": null,
      "id": "de0e8b4f",
      "metadata": {
        "id": "de0e8b4f",
        "outputId": "b8639288-a8e4-48a5-ba0e-fa657df3aa51"
      },
      "outputs": [
        {
          "name": "stdout",
          "output_type": "stream",
          "text": [
            "Anda bukan admin.\n"
          ]
        }
      ],
      "source": [
        "role = \"user\"\n",
        "\n",
        "if role == \"admin\":\n",
        "    print(\"Anda memiliki akses admin.\")\n",
        "else:\n",
        "    print(\"Anda bukan admin.\")"
      ]
    },
    {
      "cell_type": "markdown",
      "id": "e8307ed0",
      "metadata": {
        "id": "e8307ed0"
      },
      "source": [
        "## Percabangan 'If-Elif-Else' (Multiple Alternative Selection):"
      ]
    },
    {
      "cell_type": "code",
      "execution_count": null,
      "id": "aa076495",
      "metadata": {
        "id": "aa076495",
        "outputId": "798f6951-59e7-42f8-dc39-0219a2ef5b16"
      },
      "outputs": [
        {
          "name": "stdout",
          "output_type": "stream",
          "text": [
            "C\n"
          ]
        }
      ],
      "source": [
        "nilai = 75\n",
        "if nilai >= 90:\n",
        "    print(\"A\")\n",
        "elif nilai >= 80:\n",
        "    print(\"B\")\n",
        "elif nilai >= 70:\n",
        "    print(\"C\")\n",
        "else:\n",
        "    print(\"D\")"
      ]
    },
    {
      "cell_type": "code",
      "execution_count": null,
      "id": "bbe43e10",
      "metadata": {
        "id": "bbe43e10",
        "outputId": "80f5c9d2-b2ba-4850-d470-4dc6d5723e19"
      },
      "outputs": [
        {
          "name": "stdout",
          "output_type": "stream",
          "text": [
            "Ini adalah hari Jumat.\n"
          ]
        }
      ],
      "source": [
        "nomor_hari = 5\n",
        "\n",
        "if nomor_hari == 1:\n",
        "    print(\"Ini adalah hari Senin.\")\n",
        "elif nomor_hari == 2:\n",
        "    print(\"Ini adalah hari Selasa.\")\n",
        "elif nomor_hari == 3:\n",
        "    print(\"Ini adalah hari Rabu.\")\n",
        "elif nomor_hari == 4:\n",
        "    print(\"Ini adalah hari Kamis.\")\n",
        "elif nomor_hari == 5:\n",
        "    print(\"Ini adalah hari Jumat.\")\n",
        "else:\n",
        "    print(\"Ini adalah hari akhir pekan.\")"
      ]
    },
    {
      "cell_type": "code",
      "source": [],
      "metadata": {
        "id": "WwZ-VncuABLS"
      },
      "id": "WwZ-VncuABLS",
      "execution_count": null,
      "outputs": []
    },
    {
      "cell_type": "code",
      "execution_count": null,
      "id": "25eb45a1",
      "metadata": {
        "id": "25eb45a1"
      },
      "outputs": [],
      "source": []
    }
  ],
  "metadata": {
    "kernelspec": {
      "display_name": "Python 3 (ipykernel)",
      "language": "python",
      "name": "python3"
    },
    "language_info": {
      "codemirror_mode": {
        "name": "ipython",
        "version": 3
      },
      "file_extension": ".py",
      "mimetype": "text/x-python",
      "name": "python",
      "nbconvert_exporter": "python",
      "pygments_lexer": "ipython3",
      "version": "3.11.4"
    },
    "toc": {
      "base_numbering": 1,
      "nav_menu": {},
      "number_sections": false,
      "sideBar": true,
      "skip_h1_title": false,
      "title_cell": "Table of Contents",
      "title_sidebar": "Contents",
      "toc_cell": false,
      "toc_position": {
        "height": "calc(100% - 180px)",
        "left": "10px",
        "top": "150px",
        "width": "234.6px"
      },
      "toc_section_display": true,
      "toc_window_display": false
    },
    "colab": {
      "provenance": []
    }
  },
  "nbformat": 4,
  "nbformat_minor": 5
}